{
  "nbformat": 4,
  "nbformat_minor": 0,
  "metadata": {
    "colab": {
      "provenance": []
    },
    "kernelspec": {
      "name": "python3",
      "display_name": "Python 3"
    },
    "language_info": {
      "name": "python"
    }
  },
  "cells": [
    {
      "cell_type": "code",
      "execution_count": 1,
      "metadata": {
        "colab": {
          "base_uri": "https://localhost:8080/"
        },
        "id": "QYKWbav0__ws",
        "outputId": "0e4fe755-c5c9-4106-ea51-06e5af2f84e1"
      },
      "outputs": [
        {
          "output_type": "stream",
          "name": "stdout",
          "text": [
            "請輸入年分2024\n",
            "是閏年\n"
          ]
        }
      ],
      "source": [
        "a=int(input(\"請輸入年分\"))\n",
        "if a<=1582:\n",
        "  if a%4==0:\n",
        "    print(\"是閏年\")\n",
        "  else:\n",
        "    print(\"是平年\")\n",
        "elif a%4==0:\n",
        "  if a%100==0:\n",
        "    if a%400==0:\n",
        "      print(\"是閏年\")\n",
        "    else:\n",
        "      print(\"是平年\")\n",
        "  else:\n",
        "    print(\"是閏年\")\n",
        "else:\n",
        "  print(\"是平年\")"
      ]
    }
  ]
}